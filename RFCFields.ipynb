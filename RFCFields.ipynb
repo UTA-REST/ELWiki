{
 "cells": [
  {
   "cell_type": "code",
   "execution_count": 1,
   "metadata": {},
   "outputs": [],
   "source": [
    "import math as math\n",
    "import matplotlib.pyplot as plt"
   ]
  },
  {
   "cell_type": "code",
   "execution_count": 2,
   "metadata": {},
   "outputs": [],
   "source": [
    "#position\n",
    "x = 0 #(m)\n",
    "y = 0.00005 #(m)\n",
    "aa = []\n",
    "bb = []\n",
    "\n",
    "while y < .003:\n",
    "    a = .001 #pitch in m\n",
    "    yr = y/a #unitless\n",
    "    xr = x/a\n",
    "    gamma = .2\n",
    "    V = 200 #electrode voltage\n",
    "    Ep = 2000*y #push field\n",
    "    q = 1.6021765*10**(-19) #charge of ion\n",
    "    p = 1.5001234 #pressure in torr\n",
    "    p0 = 760 #standard pressure\n",
    "    T = 300 #temperature in Kelvin\n",
    "    T0 = 273.15 #standard temperature\n",
    "    mi = 6.64216e-26 #mass of ion\n",
    "    Omega = 2*math.pi*10**6 #angular frequency in Hz\n",
    "    K0 = .0022 #reduced mobility in m^2/s/V\n",
    "    D = q/mi*1/K0*p/p0*T0/T # damping constant in Hz\n",
    "    Dy = Ep*y + 1/(Omega**2 + D**2)*(q/4*mi)*(8*V/(gamma*a*math.pi))**2*math.sin(math.pi*gamma/2)**2*math.exp(-2*math.pi*y/a);\n",
    "    ymin = -a/(2*math.pi)*math.log((Ep*a*(Omega**2+D**2))*(math.pi/(8*math.sin(math.pi*gamma/2)**2))*(mi/q)*(gamma*a/(2*V))**2) #position of potential minimum\n",
    "\n",
    "    #math shortcuts\n",
    "    Shy = math.sinh(math.pi*yr)\n",
    "    Chy = math.cosh(math.pi*yr)\n",
    "    Sxminus = math.sin(math.pi*(xr-(gamma/2)))\n",
    "    Sxplus = math.sin(math.pi*(xr+(gamma/2)))\n",
    "    Cxminus = math.cos(math.pi*(xr-(gamma/2)))\n",
    "    Cxplus = math.cos(math.pi*(xr+(gamma/2)))\n",
    "\n",
    "    #field definitions\n",
    "    Ex = (V/(gamma*a*math.pi))*(math.atan(Cxminus/Shy)-math.atan(Cxplus/Shy))\n",
    "    #Ey = (V/(2*gamma*a*pi))*log((Chy+Sxplus)*(Chy-Sxminus)/((Chy-Sxplus)*(Chy+Sxminus))) #(V/m)actual formula\n",
    "    Ey = ((8*V)/(gamma*a*math.pi)*math.sin((math.pi*gamma/2))*math.exp(-(math.pi)*yr)) #approximation\n",
    "\n",
    "    #Time-averaged effective potential\n",
    "    Veff = q*((Ex**2 + Ey**2)/(4*mi*Omega**2))\n",
    "    Veffdamp = (Veff*Omega**2)/(Omega**2 + D**2)+Ep\n",
    "    \n",
    "    aa.append(y/a)\n",
    "    bb.append(Veffdamp)\n",
    "    y += .00005"
   ]
  },
  {
   "cell_type": "code",
   "execution_count": null,
   "metadata": {},
   "outputs": [],
   "source": [
    "plt.figure()\n",
    "plt.scatter(aa,bb)    \n",
    "plt.ylabel('Effective Potential [eV]')\n",
    "plt.xlabel('Distance from carpet / pitch')\n",
    "plt.ylim(1,10**5)\n",
    "plt.xlim(-.24,3.4)\n",
    "ax = plt.gca()\n",
    "ax.set_yscale('log')\n",
    "plt.show()"
   ]
  },
  {
   "cell_type": "code",
   "execution_count": null,
   "metadata": {},
   "outputs": [],
   "source": []
  }
 ],
 "metadata": {
  "kernelspec": {
   "display_name": "Python 3",
   "language": "python",
   "name": "python3"
  },
  "language_info": {
   "codemirror_mode": {
    "name": "ipython",
    "version": 3
   },
   "file_extension": ".py",
   "mimetype": "text/x-python",
   "name": "python",
   "nbconvert_exporter": "python",
   "pygments_lexer": "ipython3",
   "version": "3.6.5"
  }
 },
 "nbformat": 4,
 "nbformat_minor": 2
}
